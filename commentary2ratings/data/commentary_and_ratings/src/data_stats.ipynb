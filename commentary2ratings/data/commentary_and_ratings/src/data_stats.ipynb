{
 "cells": [
  {
   "cell_type": "code",
   "execution_count": 1,
   "metadata": {},
   "outputs": [],
   "source": [
    "import matplotlib.pyplot as plt\n",
    "import numpy as np\n",
    "import pandas as pd\n",
    "import os\n",
    "from ast import literal_eval"
   ]
  },
  {
   "cell_type": "code",
   "execution_count": 2,
   "metadata": {},
   "outputs": [],
   "source": [
    "# Read in the commentary2ratings dataset\n",
    "data = pd.read_csv(\"../../../../data_files/player_comments_ratings.csv\")"
   ]
  },
  {
   "cell_type": "code",
   "execution_count": 3,
   "metadata": {},
   "outputs": [
    {
     "data": {
      "text/plain": [
       "Text(0, 0.5, 'Frequency Count')"
      ]
     },
     "execution_count": 3,
     "metadata": {},
     "output_type": "execute_result"
    },
    {
     "data": {
      "image/png": "[encoded data removed]",
      "text/plain": [
       "<Figure size 432x288 with 1 Axes>"
      ]
     },
     "metadata": {
      "needs_background": "light"
     },
     "output_type": "display_data"
    }
   ],
   "source": [
    "commentary_lengths_array = data['comments'].apply(lambda x: len(literal_eval(x))).values\n",
    "\n",
    "counts, bins = np.histogram(commentary_lengths_array, bins=np.max(commentary_lengths_array))\n",
    "plt.bar(bins[:-1], counts, width=(bins[-1]-bins[-2]), align=\"edge\")\n",
    "\n",
    "plt.title(\"Commentary Counts Per Player Per Match\")\n",
    "plt.xlabel(\"Number of Commentaries For Player\")\n",
    "plt.ylabel(\"Frequency Count\")"
   ]
  },
  {
   "cell_type": "code",
   "execution_count": 4,
   "metadata": {},
   "outputs": [
    {
     "name": "stdout",
     "output_type": "stream",
     "text": [
      "Mean commentary length =  4.488358350076823\n",
      "Std Dev of commentary length =  2.866326210022587\n"
     ]
    }
   ],
   "source": [
    "# Calculate the mean and stddev of the commentaries\n",
    "print(\"Mean commentary length = \", np.mean(commentary_lengths_array))\n",
    "print(\"Std Dev of commentary length = \", np.std(commentary_lengths_array))"
   ]
  },
  {
   "cell_type": "code",
   "execution_count": 5,
   "metadata": {},
   "outputs": [
    {
     "name": "stdout",
     "output_type": "stream",
     "text": [
      "Total number of commentaries used:  37976\n"
     ]
    }
   ],
   "source": [
    "# Calculate the total number of commentaries:\n",
    "# comments = pd.read_csv(\"../../../../data_files/player_comments.csv\")\n",
    "# comments['commentary_len'] = comments['comments'].apply(lambda x: len(literal_eval(x)))\n",
    "\n",
    "# print(\"Total number of commentaries: \", np.sum(comments['commentary_len'].values))\n",
    "print(\"Total number of commentaries used: \", np.sum(commentary_lengths_array))"
   ]
  }
 ],
 "metadata": {
  "kernelspec": {
   "display_name": "Python 3.8.3 64-bit",
   "language": "python",
   "name": "python3"
  },
  "language_info": {
   "codemirror_mode": {
    "name": "ipython",
    "version": 3
   },
   "file_extension": ".py",
   "mimetype": "text/x-python",
   "name": "python",
   "nbconvert_exporter": "python",
   "pygments_lexer": "ipython3",
   "version": "3.8.3"
  },
  "orig_nbformat": 4,
  "vscode": {
   "interpreter": {
    "hash": "37cc097d4c17f71b400f642ea95b331c77398ba3b430e5c8366870cc48131a92"
   }
  }
 },
 "nbformat": 4,
 "nbformat_minor": 2
}
